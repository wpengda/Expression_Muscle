{
 "cells": [
  {
   "cell_type": "code",
   "execution_count": 1,
   "metadata": {},
   "outputs": [
    {
     "name": "stderr",
     "output_type": "stream",
     "text": [
      "c:\\Users\\WangP\\anaconda3\\envs\\comp\\lib\\site-packages\\torchvision\\models\\_utils.py:208: UserWarning: The parameter 'pretrained' is deprecated since 0.13 and may be removed in the future, please use 'weights' instead.\n",
      "  warnings.warn(\n",
      "c:\\Users\\WangP\\anaconda3\\envs\\comp\\lib\\site-packages\\torchvision\\models\\_utils.py:223: UserWarning: Arguments other than a weight enum or `None` for 'weights' are deprecated since 0.13 and may be removed in the future. The current behavior is equivalent to passing `weights=ResNet34_Weights.IMAGENET1K_V1`. You can also use `weights=ResNet34_Weights.DEFAULT` to get the most up-to-date weights.\n",
      "  warnings.warn(msg)\n",
      "Epoch 1: 100%|██████████| 449/449 [02:44<00:00,  2.72batch/s, accuracy=57, loss=0.0206]  \n",
      "Test: 100%|██████████| 113/113 [00:13<00:00,  8.23batch/s, accuracy=62.8, loss=0.0193]\n"
     ]
    },
    {
     "name": "stdout",
     "output_type": "stream",
     "text": [
      "Epoch [1/15], Train Loss: 1.3176, Train Accuracy: 57.05%, Test Loss: 1.2231, Test Accuracy: 62.76%\n"
     ]
    },
    {
     "name": "stderr",
     "output_type": "stream",
     "text": [
      "Epoch 2: 100%|██████████| 449/449 [02:43<00:00,  2.74batch/s, accuracy=65.7, loss=0.018] \n",
      "Test: 100%|██████████| 113/113 [00:12<00:00,  9.01batch/s, accuracy=65.9, loss=0.0181]\n"
     ]
    },
    {
     "name": "stdout",
     "output_type": "stream",
     "text": [
      "Epoch [2/15], Train Loss: 1.1499, Train Accuracy: 65.73%, Test Loss: 1.1522, Test Accuracy: 65.91%\n"
     ]
    },
    {
     "name": "stderr",
     "output_type": "stream",
     "text": [
      "Epoch 3: 100%|██████████| 449/449 [02:40<00:00,  2.79batch/s, accuracy=69.1, loss=0.0169]\n",
      "Test: 100%|██████████| 113/113 [00:12<00:00,  8.72batch/s, accuracy=66.8, loss=0.0178]\n"
     ]
    },
    {
     "name": "stdout",
     "output_type": "stream",
     "text": [
      "Epoch [3/15], Train Loss: 1.0836, Train Accuracy: 69.15%, Test Loss: 1.1310, Test Accuracy: 66.82%\n"
     ]
    },
    {
     "name": "stderr",
     "output_type": "stream",
     "text": [
      "Epoch 4: 100%|██████████| 449/449 [02:39<00:00,  2.81batch/s, accuracy=72.2, loss=0.016] \n",
      "Test: 100%|██████████| 113/113 [00:12<00:00,  9.06batch/s, accuracy=66.6, loss=0.0179]\n"
     ]
    },
    {
     "name": "stdout",
     "output_type": "stream",
     "text": [
      "Epoch [4/15], Train Loss: 1.0248, Train Accuracy: 72.21%, Test Loss: 1.1354, Test Accuracy: 66.61%\n"
     ]
    },
    {
     "name": "stderr",
     "output_type": "stream",
     "text": [
      "Epoch 5: 100%|██████████| 449/449 [02:44<00:00,  2.74batch/s, accuracy=75.3, loss=0.0152]\n",
      "Test: 100%|██████████| 113/113 [00:14<00:00,  8.00batch/s, accuracy=68.9, loss=0.0174]\n"
     ]
    },
    {
     "name": "stdout",
     "output_type": "stream",
     "text": [
      "Epoch [5/15], Train Loss: 0.9687, Train Accuracy: 75.34%, Test Loss: 1.1067, Test Accuracy: 68.88%\n"
     ]
    },
    {
     "name": "stderr",
     "output_type": "stream",
     "text": [
      "Epoch 6: 100%|██████████| 449/449 [02:49<00:00,  2.65batch/s, accuracy=78, loss=0.0143]  \n",
      "Test: 100%|██████████| 113/113 [00:13<00:00,  8.56batch/s, accuracy=67.9, loss=0.018] \n"
     ]
    },
    {
     "name": "stdout",
     "output_type": "stream",
     "text": [
      "Epoch [6/15], Train Loss: 0.9172, Train Accuracy: 78.02%, Test Loss: 1.1434, Test Accuracy: 67.93%\n"
     ]
    },
    {
     "name": "stderr",
     "output_type": "stream",
     "text": [
      "Epoch 7: 100%|██████████| 449/449 [02:45<00:00,  2.72batch/s, accuracy=80.6, loss=0.0136]\n",
      "Test: 100%|██████████| 113/113 [00:12<00:00,  8.88batch/s, accuracy=68.5, loss=0.0179]\n"
     ]
    },
    {
     "name": "stdout",
     "output_type": "stream",
     "text": [
      "Epoch [7/15], Train Loss: 0.8680, Train Accuracy: 80.56%, Test Loss: 1.1344, Test Accuracy: 68.50%\n"
     ]
    },
    {
     "name": "stderr",
     "output_type": "stream",
     "text": [
      "Epoch 8: 100%|██████████| 449/449 [02:46<00:00,  2.70batch/s, accuracy=87.1, loss=0.0116]\n",
      "Test: 100%|██████████| 113/113 [00:13<00:00,  8.67batch/s, accuracy=71.3, loss=0.0174]\n"
     ]
    },
    {
     "name": "stdout",
     "output_type": "stream",
     "text": [
      "Epoch [8/15], Train Loss: 0.7449, Train Accuracy: 87.09%, Test Loss: 1.1062, Test Accuracy: 71.26%\n"
     ]
    },
    {
     "name": "stderr",
     "output_type": "stream",
     "text": [
      "Epoch 9: 100%|██████████| 449/449 [02:52<00:00,  2.60batch/s, accuracy=89.5, loss=0.0109]\n",
      "Test: 100%|██████████| 113/113 [00:13<00:00,  8.54batch/s, accuracy=71.2, loss=0.0176]\n"
     ]
    },
    {
     "name": "stdout",
     "output_type": "stream",
     "text": [
      "Epoch [9/15], Train Loss: 0.6938, Train Accuracy: 89.54%, Test Loss: 1.1170, Test Accuracy: 71.18%\n"
     ]
    },
    {
     "name": "stderr",
     "output_type": "stream",
     "text": [
      "Epoch 10: 100%|██████████| 449/449 [02:52<00:00,  2.60batch/s, accuracy=91, loss=0.0104]  \n",
      "Test: 100%|██████████| 113/113 [00:13<00:00,  8.46batch/s, accuracy=71, loss=0.0179]  \n"
     ]
    },
    {
     "name": "stdout",
     "output_type": "stream",
     "text": [
      "Epoch [10/15], Train Loss: 0.6673, Train Accuracy: 91.01%, Test Loss: 1.1364, Test Accuracy: 70.97%\n"
     ]
    },
    {
     "name": "stderr",
     "output_type": "stream",
     "text": [
      "Epoch 11: 100%|██████████| 449/449 [02:46<00:00,  2.69batch/s, accuracy=92, loss=0.0101]  \n",
      "Test: 100%|██████████| 113/113 [00:13<00:00,  8.65batch/s, accuracy=71.3, loss=0.018] \n"
     ]
    },
    {
     "name": "stdout",
     "output_type": "stream",
     "text": [
      "Epoch [11/15], Train Loss: 0.6486, Train Accuracy: 91.96%, Test Loss: 1.1449, Test Accuracy: 71.30%\n"
     ]
    },
    {
     "name": "stderr",
     "output_type": "stream",
     "text": [
      "Epoch 12: 100%|██████████| 449/449 [02:51<00:00,  2.62batch/s, accuracy=92.7, loss=0.00988]\n",
      "Test: 100%|██████████| 113/113 [00:12<00:00,  9.27batch/s, accuracy=71.1, loss=0.0182]\n"
     ]
    },
    {
     "name": "stdout",
     "output_type": "stream",
     "text": [
      "Epoch [12/15], Train Loss: 0.6320, Train Accuracy: 92.67%, Test Loss: 1.1563, Test Accuracy: 71.05%\n"
     ]
    },
    {
     "name": "stderr",
     "output_type": "stream",
     "text": [
      "Epoch 13: 100%|██████████| 449/449 [02:50<00:00,  2.64batch/s, accuracy=93.5, loss=0.00966]\n",
      "Test: 100%|██████████| 113/113 [00:12<00:00,  9.17batch/s, accuracy=71.5, loss=0.0183]\n"
     ]
    },
    {
     "name": "stdout",
     "output_type": "stream",
     "text": [
      "Epoch [13/15], Train Loss: 0.6176, Train Accuracy: 93.48%, Test Loss: 1.1630, Test Accuracy: 71.47%\n"
     ]
    },
    {
     "name": "stderr",
     "output_type": "stream",
     "text": [
      "Epoch 14: 100%|██████████| 449/449 [02:42<00:00,  2.77batch/s, accuracy=94.2, loss=0.00946]\n",
      "Test: 100%|██████████| 113/113 [00:12<00:00,  8.87batch/s, accuracy=70.9, loss=0.0185]\n"
     ]
    },
    {
     "name": "stdout",
     "output_type": "stream",
     "text": [
      "Epoch [14/15], Train Loss: 0.6049, Train Accuracy: 94.17%, Test Loss: 1.1733, Test Accuracy: 70.94%\n"
     ]
    },
    {
     "name": "stderr",
     "output_type": "stream",
     "text": [
      "Epoch 15: 100%|██████████| 449/449 [02:40<00:00,  2.80batch/s, accuracy=95.3, loss=0.00916]\n",
      "Test: 100%|██████████| 113/113 [00:12<00:00,  8.72batch/s, accuracy=71.3, loss=0.0184]\n"
     ]
    },
    {
     "name": "stdout",
     "output_type": "stream",
     "text": [
      "Epoch [15/15], Train Loss: 0.5858, Train Accuracy: 95.34%, Test Loss: 1.1662, Test Accuracy: 71.34%\n"
     ]
    },
    {
     "data": {
      "image/png": "[encoded data removed]",
      "text/plain": [
       "<Figure size 640x480 with 2 Axes>"
      ]
     },
     "metadata": {},
     "output_type": "display_data"
    },
    {
     "name": "stdout",
     "output_type": "stream",
     "text": [
      "              precision    recall  f1-score   support\n",
      "\n",
      "       angry       0.64      0.64      0.64       958\n",
      "     disgust       0.80      0.68      0.73       111\n",
      "        fear       0.60      0.54      0.57      1024\n",
      "       happy       0.88      0.90      0.89      1774\n",
      "     neutral       0.67      0.68      0.67      1233\n",
      "         sad       0.59      0.60      0.60      1247\n",
      "    surprise       0.81      0.84      0.83       831\n",
      "\n",
      "    accuracy                           0.71      7178\n",
      "   macro avg       0.71      0.70      0.70      7178\n",
      "weighted avg       0.71      0.71      0.71      7178\n",
      "\n"
     ]
    }
   ],
   "source": [
    "#resnet34\n",
    "import torch\n",
    "import torch.nn as nn\n",
    "import torch.optim as optim\n",
    "from torchvision import datasets, transforms, models\n",
    "from torch.utils.data import DataLoader\n",
    "import timm\n",
    "from sklearn.metrics import classification_report, confusion_matrix\n",
    "import numpy as np\n",
    "import seaborn as sns\n",
    "import matplotlib.pyplot as plt\n",
    "from tqdm import tqdm\n",
    "\n",
    "img_size = 224\n",
    "epochs = 15\n",
    "batch_size = 64\n",
    "learning_rate = 0.0001\n",
    "\n",
    "train_transform = transforms.Compose([\n",
    "    transforms.Resize((img_size, img_size)),\n",
    "    transforms.RandomHorizontalFlip(),\n",
    "    transforms.RandomRotation(15),\n",
    "    transforms.ColorJitter(brightness=0.1, contrast=0.1, saturation=0.1, hue=0.1),\n",
    "    transforms.ToTensor(),\n",
    "    transforms.Normalize(mean=[0.485, 0.456, 0.406], std=[0.229, 0.224, 0.225]),\n",
    "])\n",
    "\n",
    "test_transform = transforms.Compose([\n",
    "    transforms.Resize((img_size, img_size)),\n",
    "    transforms.ToTensor(),\n",
    "    transforms.Normalize(mean=[0.485, 0.456, 0.406], std=[0.229, 0.224, 0.225]),\n",
    "])\n",
    "\n",
    "train_dataset = datasets.ImageFolder(root='data/train', transform=train_transform)\n",
    "test_dataset = datasets.ImageFolder(root='data/test', transform=test_transform)\n",
    "\n",
    "train_loader = DataLoader(dataset=train_dataset, batch_size=batch_size, shuffle=True)\n",
    "test_loader = DataLoader(dataset=test_dataset, batch_size=batch_size, shuffle=False)\n",
    "\n",
    "# model = timm.create_model('vit_base_patch16_224', pretrained=True, num_classes=len(train_dataset.classes))\n",
    "\n",
    "model = models.resnet34(pretrained=True)\n",
    "num_ftrs = model.fc.in_features\n",
    "model.fc = nn.Linear(num_ftrs, 7)\n",
    "\n",
    "device = torch.device(\"cuda:0\" if torch.cuda.is_available() else \"cpu\")\n",
    "model = model.to(device)\n",
    "\n",
    "criterion = nn.CrossEntropyLoss(label_smoothing=0.1)\n",
    "optimizer = optim.AdamW(model.parameters(), lr=learning_rate, weight_decay=0.01)\n",
    "scheduler = torch.optim.lr_scheduler.StepLR(optimizer, step_size=7, gamma=0.1)\n",
    "\n",
    "best_acc = 0.0\n",
    "\n",
    "for epoch in range(epochs):\n",
    "    model.train()\n",
    "    running_loss = 0.0\n",
    "    correct = 0\n",
    "    total = 0\n",
    "\n",
    "    with tqdm(train_loader, unit=\"batch\") as tepoch:\n",
    "        for images, labels in tepoch:\n",
    "            tepoch.set_description(f\"Epoch {epoch+1}\")\n",
    "            images, labels = images.to(device), labels.to(device)\n",
    "            optimizer.zero_grad()\n",
    "            outputs = model(images)\n",
    "            loss = criterion(outputs, labels)\n",
    "            loss.backward()\n",
    "            optimizer.step()\n",
    "\n",
    "            running_loss += loss.item()\n",
    "            _, predicted = torch.max(outputs.data, 1)\n",
    "            total += labels.size(0)\n",
    "            correct += (predicted == labels).sum().item()\n",
    "            tepoch.set_postfix(loss=running_loss/total, accuracy=100. * correct/total)\n",
    "\n",
    "    train_epoch_loss = running_loss / len(train_loader)\n",
    "    train_epoch_acc = 100 * correct / total\n",
    "\n",
    "    model.eval()\n",
    "    test_running_loss = 0.0\n",
    "    test_correct = 0\n",
    "    test_total = 0\n",
    "    y_true = []\n",
    "    y_pred = []\n",
    "    with torch.no_grad(), tqdm(test_loader, unit=\"batch\") as tepoch:\n",
    "        for images, labels in tepoch:\n",
    "            tepoch.set_description(\"Test\")\n",
    "            images, labels = images.to(device), labels.to(device)\n",
    "            outputs = model(images)\n",
    "            loss = criterion(outputs, labels)\n",
    "            test_running_loss += loss.item()\n",
    "            _, predicted = torch.max(outputs.data, 1)\n",
    "            test_total += labels.size(0)\n",
    "            test_correct += (predicted == labels).sum().item()\n",
    "            y_true.extend(labels.cpu().numpy())\n",
    "            y_pred.extend(predicted.cpu().numpy())\n",
    "            tepoch.set_postfix(loss=test_running_loss/test_total, accuracy=100. * test_correct/test_total)\n",
    "\n",
    "    test_epoch_loss = test_running_loss / len(test_loader)\n",
    "    test_epoch_acc = 100 * test_correct / test_total\n",
    "\n",
    "    print(f'Epoch [{epoch+1}/{epochs}], '\n",
    "          f'Train Loss: {train_epoch_loss:.4f}, Train Accuracy: {train_epoch_acc:.2f}%, '\n",
    "          f'Test Loss: {test_epoch_loss:.4f}, Test Accuracy: {test_epoch_acc:.2f}%')\n",
    "\n",
    "    scheduler.step()\n",
    "\n",
    "    if test_epoch_acc > best_acc:\n",
    "        best_acc = test_epoch_acc\n",
    "        torch.save(model.state_dict(), 'best_model.pth')\n",
    "\n",
    "cm = confusion_matrix(y_true, y_pred)\n",
    "sns.heatmap(cm, annot=True, fmt='d', cmap='Blues', xticklabels=train_dataset.classes, yticklabels=train_dataset.classes)\n",
    "plt.ylabel('Actual')\n",
    "plt.xlabel('Predicted')\n",
    "plt.show()\n",
    "\n",
    "print(classification_report(y_true, y_pred, target_names=train_dataset.classes))"
   ]
  }
 ],
 "metadata": {
  "kernelspec": {
   "display_name": "comp",
   "language": "python",
   "name": "python3"
  },
  "language_info": {
   "codemirror_mode": {
    "name": "ipython",
    "version": 3
   },
   "file_extension": ".py",
   "mimetype": "text/x-python",
   "name": "python",
   "nbconvert_exporter": "python",
   "pygments_lexer": "ipython3",
   "version": "3.11.5"
  }
 },
 "nbformat": 4,
 "nbformat_minor": 2
}
